https://htmlpreview.github.io/?https://nbviewer.org/github/orhansonmeztr/IBM_Data_Science_Capstone/blob/main/IntVisAnW_Folium.ipynb
